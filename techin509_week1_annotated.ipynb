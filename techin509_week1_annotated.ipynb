{
  "nbformat": 4,
  "nbformat_minor": 0,
  "metadata": {
    "colab": {
      "provenance": []
    },
    "kernelspec": {
      "name": "python3",
      "display_name": "Python 3"
    },
    "language_info": {
      "name": "python"
    }
  },
  "cells": [
    {
      "cell_type": "code",
      "execution_count": null,
      "metadata": {
        "colab": {
          "base_uri": "https://localhost:8080/"
        },
        "id": "aIKKXb7_ijFR",
        "outputId": "f7b45c11-59fe-4773-83c3-0433a702293d"
      },
      "outputs": [
        {
          "output_type": "stream",
          "name": "stdout",
          "text": [
            "https://colab.research.google.com\n"
          ]
        }
      ],
      "source": [
        "print(\"https://colab.research.google.com\")"
      ]
    },
    {
      "cell_type": "markdown",
      "source": [
        "Before we write any code, let's learn how to write comments\n",
        "\n",
        "comments are a way to include explanatory or descriptive text within your code that is ignored by the Python interpreter when your code is run. Comments are used to provide information to developers (including yourself) about how the code works, what it does, or any other relevant details. They are not executed as part of the program and do not affect its functionality."
      ],
      "metadata": {
        "id": "6nExSpyF9ZLI"
      }
    },
    {
      "cell_type": "code",
      "source": [
        "# this is a comment\n",
        "# sharp/pound sign (#) indicates a comment\n",
        "# You can quickly toggle comments with hotkey cmd+/"
      ],
      "metadata": {
        "id": "OyQziny0953n"
      },
      "execution_count": null,
      "outputs": []
    },
    {
      "cell_type": "markdown",
      "source": [
        "# What we will cover in class today\n",
        "- Number\n",
        "- Vriables\n",
        "- String\n",
        "- Print-formatting\n",
        "- File I/O"
      ],
      "metadata": {
        "id": "iyh03kzSm2ZX"
      }
    },
    {
      "cell_type": "markdown",
      "source": [
        "# Arithmetic"
      ],
      "metadata": {
        "id": "Eg6p2QClthuO"
      }
    },
    {
      "cell_type": "code",
      "source": [
        "# This is a number\n",
        "3"
      ],
      "metadata": {
        "colab": {
          "base_uri": "https://localhost:8080/"
        },
        "id": "GTOqBj_Nm6e1",
        "outputId": "a528c34d-d3b5-4ddb-fde4-f7c9948c39a7"
      },
      "execution_count": null,
      "outputs": [
        {
          "output_type": "execute_result",
          "data": {
            "text/plain": [
              "3"
            ]
          },
          "metadata": {},
          "execution_count": 5
        }
      ]
    },
    {
      "cell_type": "code",
      "source": [
        "1 + 1"
      ],
      "metadata": {
        "colab": {
          "base_uri": "https://localhost:8080/"
        },
        "id": "YcY7zPvNndR1",
        "outputId": "60ee7dc0-1e74-4505-c551-589e0209dca3"
      },
      "execution_count": 1,
      "outputs": [
        {
          "output_type": "execute_result",
          "data": {
            "text/plain": [
              "2"
            ]
          },
          "metadata": {},
          "execution_count": 1
        }
      ]
    },
    {
      "cell_type": "code",
      "source": [
        "8 - 1"
      ],
      "metadata": {
        "colab": {
          "base_uri": "https://localhost:8080/"
        },
        "id": "PmCqez7EngoH",
        "outputId": "0d9b4f19-e189-4769-cc07-cf33688cea49"
      },
      "execution_count": null,
      "outputs": [
        {
          "output_type": "execute_result",
          "data": {
            "text/plain": [
              "7"
            ]
          },
          "metadata": {},
          "execution_count": 7
        }
      ]
    },
    {
      "cell_type": "code",
      "source": [
        "10 * 2"
      ],
      "metadata": {
        "colab": {
          "base_uri": "https://localhost:8080/"
        },
        "id": "ZH7lmiWJnql2",
        "outputId": "3e547f04-0a0f-4543-c2fc-2825e35b01f4"
      },
      "execution_count": null,
      "outputs": [
        {
          "output_type": "execute_result",
          "data": {
            "text/plain": [
              "20"
            ]
          },
          "metadata": {},
          "execution_count": 8
        }
      ]
    },
    {
      "cell_type": "code",
      "source": [
        "35 / 5"
      ],
      "metadata": {
        "colab": {
          "base_uri": "https://localhost:8080/"
        },
        "id": "7EJ_qwdwnr9V",
        "outputId": "49280c6a-6e87-4d50-869e-1a6e85d50057"
      },
      "execution_count": null,
      "outputs": [
        {
          "output_type": "execute_result",
          "data": {
            "text/plain": [
              "7.0"
            ]
          },
          "metadata": {},
          "execution_count": 10
        }
      ]
    },
    {
      "cell_type": "code",
      "source": [
        "# Scientific notation\n",
        "4E2"
      ],
      "metadata": {
        "colab": {
          "base_uri": "https://localhost:8080/"
        },
        "id": "v8UmtyKGns9v",
        "outputId": "673576e0-54b2-4c74-f74e-4291cb473a4a"
      },
      "execution_count": 2,
      "outputs": [
        {
          "output_type": "execute_result",
          "data": {
            "text/plain": [
              "400.0"
            ]
          },
          "metadata": {},
          "execution_count": 2
        }
      ]
    },
    {
      "cell_type": "markdown",
      "source": [
        "# Types\n",
        "While Python is a dynamic language, which means it is not required to specify types in the source code, there are still the concept of types in Python.\n",
        "\n",
        "You can check the type of an expression by using `type` function"
      ],
      "metadata": {
        "id": "xBWIXyXYphld"
      }
    },
    {
      "cell_type": "code",
      "source": [
        "# check the type of number 3\n",
        "type(3)"
      ],
      "metadata": {
        "colab": {
          "base_uri": "https://localhost:8080/"
        },
        "id": "5RwrHoEhpk7A",
        "outputId": "0b432797-c96e-44a6-eace-ff51c3801727"
      },
      "execution_count": null,
      "outputs": [
        {
          "output_type": "execute_result",
          "data": {
            "text/plain": [
              "int"
            ]
          },
          "metadata": {},
          "execution_count": 21
        }
      ]
    },
    {
      "cell_type": "code",
      "source": [
        "# check the type of 0.1\n",
        "type(0.1)"
      ],
      "metadata": {
        "colab": {
          "base_uri": "https://localhost:8080/"
        },
        "id": "qX-DTHoDpqRd",
        "outputId": "325c2acd-b08f-4ad4-c552-a595de7716d0"
      },
      "execution_count": null,
      "outputs": [
        {
          "output_type": "execute_result",
          "data": {
            "text/plain": [
              "float"
            ]
          },
          "metadata": {},
          "execution_count": 22
        }
      ]
    },
    {
      "cell_type": "code",
      "source": [
        "# change the type of an integer to float by using the float() function\n",
        "float(1)"
      ],
      "metadata": {
        "colab": {
          "base_uri": "https://localhost:8080/"
        },
        "id": "ixrKpjhDp1Ej",
        "outputId": "83882d45-eb1e-4c56-b6b2-818c56389eb5"
      },
      "execution_count": null,
      "outputs": [
        {
          "output_type": "execute_result",
          "data": {
            "text/plain": [
              "1.0"
            ]
          },
          "metadata": {},
          "execution_count": 23
        }
      ]
    },
    {
      "cell_type": "code",
      "source": [
        "# change the type of a floating point number to integer by using the int() function\n",
        "int(2.0)"
      ],
      "metadata": {
        "colab": {
          "base_uri": "https://localhost:8080/"
        },
        "id": "1xZz7szop5Js",
        "outputId": "57f73d48-5b56-4753-9495-1126b3805569"
      },
      "execution_count": null,
      "outputs": [
        {
          "output_type": "execute_result",
          "data": {
            "text/plain": [
              "2"
            ]
          },
          "metadata": {},
          "execution_count": 24
        }
      ]
    },
    {
      "cell_type": "code",
      "source": [
        "# Exponentiation\n",
        "2 ** 3"
      ],
      "metadata": {
        "colab": {
          "base_uri": "https://localhost:8080/"
        },
        "id": "FPbFyhOxp8AG",
        "outputId": "3b49b6d4-c1d2-4e49-8bc6-e5e8c6f8bf26"
      },
      "execution_count": null,
      "outputs": [
        {
          "output_type": "execute_result",
          "data": {
            "text/plain": [
              "8"
            ]
          },
          "metadata": {},
          "execution_count": 25
        }
      ]
    },
    {
      "cell_type": "code",
      "source": [
        "# Square root\n",
        "4 ** 0.5"
      ],
      "metadata": {
        "colab": {
          "base_uri": "https://localhost:8080/"
        },
        "id": "PLDojAz7q-3s",
        "outputId": "ce8c60f5-37bc-4230-dd2d-270d4b636d67"
      },
      "execution_count": null,
      "outputs": [
        {
          "output_type": "execute_result",
          "data": {
            "text/plain": [
              "2.0"
            ]
          },
          "metadata": {},
          "execution_count": 28
        }
      ]
    },
    {
      "cell_type": "markdown",
      "source": [
        "The **order of operations** (also called **precedence**) of Python math operators is similar to that of mathematics. The ** operator is evaluated first; the *,\n",
        "/, //, and % operators are evaluated next, from left to right; and the + and - operators are evaluated last (also from left to right). You can use parentheses to override the usual precedence."
      ],
      "metadata": {
        "id": "y82gWz4w3kmy"
      }
    },
    {
      "cell_type": "code",
      "source": [
        "2 + 10 * 10 + 3"
      ],
      "metadata": {
        "colab": {
          "base_uri": "https://localhost:8080/"
        },
        "id": "OrNng157rRUe",
        "outputId": "83a815fb-dd36-410b-827a-a6c5f9a498ac"
      },
      "execution_count": null,
      "outputs": [
        {
          "output_type": "execute_result",
          "data": {
            "text/plain": [
              "105"
            ]
          },
          "metadata": {},
          "execution_count": 29
        }
      ]
    },
    {
      "cell_type": "code",
      "source": [
        "(2 + 10) * (10 + 3)"
      ],
      "metadata": {
        "colab": {
          "base_uri": "https://localhost:8080/"
        },
        "id": "2Ch7x3ZdrWu1",
        "outputId": "119e7c7d-8a2c-40d1-a050-0c6af0f48d03"
      },
      "execution_count": null,
      "outputs": [
        {
          "output_type": "execute_result",
          "data": {
            "text/plain": [
              "156"
            ]
          },
          "metadata": {},
          "execution_count": 30
        }
      ]
    },
    {
      "cell_type": "markdown",
      "source": [
        "# Variables\n",
        "\n",
        "Variables in Python are containers that hold data. They are like labeled boxes that can store different types of information, such as numbers, text, or more complex data structures. Variables allow you to manipulate and work with data in your programs."
      ],
      "metadata": {
        "id": "1baRSi5srZ65"
      }
    },
    {
      "cell_type": "code",
      "source": [
        "name = \"TECHIN509\""
      ],
      "metadata": {
        "id": "z_teFUY-rh6q"
      },
      "execution_count": 3,
      "outputs": []
    },
    {
      "cell_type": "code",
      "source": [
        "name"
      ],
      "metadata": {
        "colab": {
          "base_uri": "https://localhost:8080/",
          "height": 35
        },
        "id": "y6_fvK1FrkEc",
        "outputId": "e77c59ec-4e59-43af-cc8c-4228ab4c6e5d"
      },
      "execution_count": 4,
      "outputs": [
        {
          "output_type": "execute_result",
          "data": {
            "text/plain": [
              "'TECHIN509'"
            ],
            "application/vnd.google.colaboratory.intrinsic+json": {
              "type": "string"
            }
          },
          "metadata": {},
          "execution_count": 4
        }
      ]
    },
    {
      "cell_type": "code",
      "source": [
        "score = 100"
      ],
      "metadata": {
        "id": "uiagAQp8rmsN"
      },
      "execution_count": 5,
      "outputs": []
    },
    {
      "cell_type": "code",
      "source": [
        "type(score)"
      ],
      "metadata": {
        "colab": {
          "base_uri": "https://localhost:8080/"
        },
        "id": "eYXeWVrUrxbn",
        "outputId": "3a55c82d-ef5f-44bc-e028-406b181a29ce"
      },
      "execution_count": 6,
      "outputs": [
        {
          "output_type": "execute_result",
          "data": {
            "text/plain": [
              "int"
            ]
          },
          "metadata": {},
          "execution_count": 6
        }
      ]
    },
    {
      "cell_type": "code",
      "source": [
        "print(score)"
      ],
      "metadata": {
        "colab": {
          "base_uri": "https://localhost:8080/"
        },
        "id": "ym0yOUwZrz6G",
        "outputId": "47a15157-070b-4657-edd8-180ea8825ca2"
      },
      "execution_count": 7,
      "outputs": [
        {
          "output_type": "stream",
          "name": "stdout",
          "text": [
            "100\n"
          ]
        }
      ]
    },
    {
      "cell_type": "code",
      "source": [
        "score + score"
      ],
      "metadata": {
        "colab": {
          "base_uri": "https://localhost:8080/"
        },
        "id": "Rrfp8h3cr1wi",
        "outputId": "364743cb-76dc-4344-e594-2642bb009f63"
      },
      "execution_count": 8,
      "outputs": [
        {
          "output_type": "execute_result",
          "data": {
            "text/plain": [
              "200"
            ]
          },
          "metadata": {},
          "execution_count": 8
        }
      ]
    },
    {
      "cell_type": "code",
      "source": [
        "# Convert temperature from fahrenheit to celsius\n",
        "fahrenheit = 74\n",
        "celsius = (fahrenheit - 32) * 5/9\n",
        "celsius"
      ],
      "metadata": {
        "colab": {
          "base_uri": "https://localhost:8080/"
        },
        "id": "sR2Udj5Zr704",
        "outputId": "17def40a-9af2-47eb-ccf8-c67f7ac356a7"
      },
      "execution_count": 9,
      "outputs": [
        {
          "output_type": "execute_result",
          "data": {
            "text/plain": [
              "23.333333333333332"
            ]
          },
          "metadata": {},
          "execution_count": 9
        }
      ]
    },
    {
      "cell_type": "code",
      "source": [
        "# Convert to integer\n",
        "int(celsius)"
      ],
      "metadata": {
        "colab": {
          "base_uri": "https://localhost:8080/"
        },
        "id": "RlLLDZ0MsWNY",
        "outputId": "974de80d-de59-4211-ed19-78d3936a4fc9"
      },
      "execution_count": 10,
      "outputs": [
        {
          "output_type": "execute_result",
          "data": {
            "text/plain": [
              "23"
            ]
          },
          "metadata": {},
          "execution_count": 10
        }
      ]
    },
    {
      "cell_type": "markdown",
      "source": [
        "# Practice\n",
        "Annualized return(%) is\n",
        "$$Annualized\\ return(\\%) = (\\ total\\ return + 1) ^ {1/number\\ of\\ years} - 1$$\n",
        "If we have two projects:\n",
        "\n",
        "- Project A. 10 years, total return 200%\n",
        "- Project B. 5 years, total return 100%\n",
        "\n",
        "Which one has a higher annualized return?"
      ],
      "metadata": {
        "id": "xfHp0Ez-WApA"
      }
    },
    {
      "cell_type": "code",
      "source": [
        "A = (2 + 1) ** (1/10) - 1\n",
        "A"
      ],
      "metadata": {
        "colab": {
          "base_uri": "https://localhost:8080/"
        },
        "id": "v64N7n1SWFI0",
        "outputId": "fd5178c7-f1b5-4b8d-b062-8867bc5aa57e"
      },
      "execution_count": 107,
      "outputs": [
        {
          "output_type": "execute_result",
          "data": {
            "text/plain": [
              "0.11612317403390437"
            ]
          },
          "metadata": {},
          "execution_count": 107
        }
      ]
    },
    {
      "cell_type": "code",
      "source": [
        "B = (1 + 1) ** (1/5) - 1\n",
        "B"
      ],
      "metadata": {
        "colab": {
          "base_uri": "https://localhost:8080/"
        },
        "id": "3kPAu_qGWHVI",
        "outputId": "c28632f0-fd0b-438c-bea4-6952997925cf"
      },
      "execution_count": 108,
      "outputs": [
        {
          "output_type": "execute_result",
          "data": {
            "text/plain": [
              "0.1486983549970351"
            ]
          },
          "metadata": {},
          "execution_count": 108
        }
      ]
    },
    {
      "cell_type": "markdown",
      "source": [
        "# String\n",
        "\n",
        "A string is a data type in Python used to represent a sequence of characters. Characters in a string can be letters, numbers, symbols, or even spaces. Strings are enclosed in either single quotes (') or double quotes (\"), and they are considered immutable, which means you cannot change the characters within a string once it's created; instead, you create a new string."
      ],
      "metadata": {
        "id": "zmd1p_K_sagS"
      }
    },
    {
      "cell_type": "code",
      "source": [
        "'this is a string'"
      ],
      "metadata": {
        "colab": {
          "base_uri": "https://localhost:8080/",
          "height": 35
        },
        "id": "MN1MIcYEtLh9",
        "outputId": "d429c443-03dd-45dc-ffa5-8377114c0ee0"
      },
      "execution_count": null,
      "outputs": [
        {
          "output_type": "execute_result",
          "data": {
            "text/plain": [
              "'this is a string'"
            ],
            "application/vnd.google.colaboratory.intrinsic+json": {
              "type": "string"
            }
          },
          "metadata": {},
          "execution_count": 43
        }
      ]
    },
    {
      "cell_type": "code",
      "source": [
        "\"you can also use double quotes to create a string\""
      ],
      "metadata": {
        "colab": {
          "base_uri": "https://localhost:8080/",
          "height": 35
        },
        "id": "mPpF_tTKtQNh",
        "outputId": "86da444c-7b1f-4dd5-eae8-e7de91e9b9e8"
      },
      "execution_count": 12,
      "outputs": [
        {
          "output_type": "execute_result",
          "data": {
            "text/plain": [
              "'you can also use double quotes to create a string'"
            ],
            "application/vnd.google.colaboratory.intrinsic+json": {
              "type": "string"
            }
          },
          "metadata": {},
          "execution_count": 12
        }
      ]
    },
    {
      "cell_type": "code",
      "source": [
        "'''you can also use triple single quotes to create a string'''"
      ],
      "metadata": {
        "colab": {
          "base_uri": "https://localhost:8080/",
          "height": 35
        },
        "id": "FZtpkxHx5Hkn",
        "outputId": "a5fa22ae-72b2-4d2a-d91f-fd591d925ef4"
      },
      "execution_count": 13,
      "outputs": [
        {
          "output_type": "execute_result",
          "data": {
            "text/plain": [
              "'you can also use triple single quotes to create a string'"
            ],
            "application/vnd.google.colaboratory.intrinsic+json": {
              "type": "string"
            }
          },
          "metadata": {},
          "execution_count": 13
        }
      ]
    },
    {
      "cell_type": "code",
      "source": [
        "\"\"\"or triple double quotes to create a string\"\"\""
      ],
      "metadata": {
        "colab": {
          "base_uri": "https://localhost:8080/",
          "height": 35
        },
        "id": "Ew4jT6un5QPq",
        "outputId": "20009121-31e3-4c1f-9254-b76460255889"
      },
      "execution_count": 14,
      "outputs": [
        {
          "output_type": "execute_result",
          "data": {
            "text/plain": [
              "'or triple double quotes to create a string'"
            ],
            "application/vnd.google.colaboratory.intrinsic+json": {
              "type": "string"
            }
          },
          "metadata": {},
          "execution_count": 14
        }
      ]
    },
    {
      "cell_type": "markdown",
      "source": [
        "All of the above are valid ways to define Python strings, but when should you use each one?"
      ],
      "metadata": {
        "id": "PidNj6ga5bP_"
      }
    },
    {
      "cell_type": "code",
      "source": [
        "# there is a ' in the string, you can use double quote to define the string\n",
        "\"I'm a software engineer\""
      ],
      "metadata": {
        "colab": {
          "base_uri": "https://localhost:8080/",
          "height": 35
        },
        "id": "Rt4AR6g4tRYu",
        "outputId": "665f6acd-e730-4676-ba8c-1aa702acb87d"
      },
      "execution_count": null,
      "outputs": [
        {
          "output_type": "execute_result",
          "data": {
            "text/plain": [
              "\"I'm a software engineer\""
            ],
            "application/vnd.google.colaboratory.intrinsic+json": {
              "type": "string"
            }
          },
          "metadata": {},
          "execution_count": 83
        }
      ]
    },
    {
      "cell_type": "code",
      "source": [
        "# or triple quotes\n",
        "'''I'm an engineer'''"
      ],
      "metadata": {
        "id": "15o76vOXtavN",
        "colab": {
          "base_uri": "https://localhost:8080/",
          "height": 35
        },
        "outputId": "7a422ed1-ba67-498f-a70c-f4e99a0dfbd9"
      },
      "execution_count": 16,
      "outputs": [
        {
          "output_type": "execute_result",
          "data": {
            "text/plain": [
              "\"I'm an engineer\""
            ],
            "application/vnd.google.colaboratory.intrinsic+json": {
              "type": "string"
            }
          },
          "metadata": {},
          "execution_count": 16
        }
      ]
    },
    {
      "cell_type": "markdown",
      "source": [
        "# Multi-line strings\n",
        "\n",
        "A multi-line string in Python is a string that spans multiple lines of text. It is often used when you need to represent a block of text, such as a long paragraph, code snippet, or even structured data like JSON or XML, in a more readable and maintainable format. In Python, you can create multi-line strings using triple-quotes (''' or \"\"\") or by escaping newline characters (\\n)."
      ],
      "metadata": {
        "id": "8yZwPxk66juq"
      }
    },
    {
      "cell_type": "code",
      "source": [
        "haiku = \"\"\"Python, a language so bright\n",
        "Easy to learn, yet powerful\n",
        "Building with grace and might\"\"\"\n",
        "print(haiku)"
      ],
      "metadata": {
        "colab": {
          "base_uri": "https://localhost:8080/"
        },
        "id": "AtpiZpX_tibH",
        "outputId": "8ee1e29c-61a9-4342-b308-6042889935b5"
      },
      "execution_count": 19,
      "outputs": [
        {
          "output_type": "stream",
          "name": "stdout",
          "text": [
            "Python, a language so bright\n",
            "Easy to learn, yet powerful\n",
            "Building with grace and might\n"
          ]
        }
      ]
    },
    {
      "cell_type": "code",
      "source": [
        "s = \"this is a looooooooooooooooooooooooooooooooooooooooooooooooong string\""
      ],
      "metadata": {
        "id": "zaHCiLKOt2Y2"
      },
      "execution_count": null,
      "outputs": []
    },
    {
      "cell_type": "code",
      "source": [
        "s = \"this is a loooooooooooooo\\\n",
        "ooooooooooooooooooooooooooooooooooong string\"\n",
        "s"
      ],
      "metadata": {
        "colab": {
          "base_uri": "https://localhost:8080/",
          "height": 35
        },
        "id": "TdUAYbdyuViV",
        "outputId": "0799f854-d2f6-44ea-c161-7aab4546d37c"
      },
      "execution_count": null,
      "outputs": [
        {
          "output_type": "execute_result",
          "data": {
            "text/plain": [
              "'this is a looooooooooooooooooooooooooooooooooooooooooooooooong string'"
            ],
            "application/vnd.google.colaboratory.intrinsic+json": {
              "type": "string"
            }
          },
          "metadata": {},
          "execution_count": 50
        }
      ]
    },
    {
      "cell_type": "code",
      "source": [
        "s = (\n",
        "    'this is a loooooooooooooo'\n",
        "    'ooooooooooooooooooooooooooooooooooong string'\n",
        ")\n",
        "s"
      ],
      "metadata": {
        "colab": {
          "base_uri": "https://localhost:8080/",
          "height": 35
        },
        "id": "F752mgoSuYzY",
        "outputId": "23a959ed-d18b-47ba-d63b-816d8b6a51ba"
      },
      "execution_count": null,
      "outputs": [
        {
          "output_type": "execute_result",
          "data": {
            "text/plain": [
              "'this is a looooooooooooooooooooooooooooooooooooooooooooooooong string'"
            ],
            "application/vnd.google.colaboratory.intrinsic+json": {
              "type": "string"
            }
          },
          "metadata": {},
          "execution_count": 51
        }
      ]
    },
    {
      "cell_type": "markdown",
      "source": [
        "# String indexing\n",
        "String indexing is a fundamental concept in Python, used to access individual characters within a string.\n",
        "\n",
        "In Python, strings are sequences of characters, and each character in a string has a position or index. Indexing starts at 0 for the first character in the string, and you can use these indices to retrieve or manipulate specific characters within the string.\n",
        "\n",
        "`some_string[start:end:step]`"
      ],
      "metadata": {
        "id": "X4oynJPdEljk"
      }
    },
    {
      "cell_type": "code",
      "source": [
        "s = \"Hello,GIX\""
      ],
      "metadata": {
        "id": "28OsNaEhJUtc"
      },
      "execution_count": 55,
      "outputs": []
    },
    {
      "cell_type": "code",
      "source": [
        "# check the length of the string with len()\n",
        "len(s)"
      ],
      "metadata": {
        "colab": {
          "base_uri": "https://localhost:8080/"
        },
        "id": "5mbfN_aiLAH3",
        "outputId": "7b2b600c-2636-4720-cc6c-1912d64a50dc"
      },
      "execution_count": 56,
      "outputs": [
        {
          "output_type": "execute_result",
          "data": {
            "text/plain": [
              "9"
            ]
          },
          "metadata": {},
          "execution_count": 56
        }
      ]
    },
    {
      "cell_type": "code",
      "source": [
        "# String indexing syntax\n",
        "# This example does not specify any start, end, or step\n",
        "# So it will return the whole string\n",
        "s[::]"
      ],
      "metadata": {
        "colab": {
          "base_uri": "https://localhost:8080/",
          "height": 35
        },
        "id": "vcH-VJJJJDon",
        "outputId": "9193d856-d558-428e-b3de-0d2409a0e755"
      },
      "execution_count": 57,
      "outputs": [
        {
          "output_type": "execute_result",
          "data": {
            "text/plain": [
              "'Hello,GIX'"
            ],
            "application/vnd.google.colaboratory.intrinsic+json": {
              "type": "string"
            }
          },
          "metadata": {},
          "execution_count": 57
        }
      ]
    },
    {
      "cell_type": "code",
      "source": [
        "# Let's specify\n",
        "# start index = 1,\n",
        "# end index = 2,\n",
        "# step = 1,\n",
        "# so we get the character at index 1\n",
        "# string: Hello,GIX\n",
        "#  index: 012345678\n",
        "#          ^\n",
        "s[1:2:1]"
      ],
      "metadata": {
        "colab": {
          "base_uri": "https://localhost:8080/",
          "height": 35
        },
        "id": "Kl5ohybZJjay",
        "outputId": "a7684a32-11f6-4cda-9aa0-4f5cc04fe916"
      },
      "execution_count": 59,
      "outputs": [
        {
          "output_type": "execute_result",
          "data": {
            "text/plain": [
              "'e'"
            ],
            "application/vnd.google.colaboratory.intrinsic+json": {
              "type": "string"
            }
          },
          "metadata": {},
          "execution_count": 59
        }
      ]
    },
    {
      "cell_type": "code",
      "source": [
        "# We can omit the end and step if we are only indexing for a single character\n",
        "#\n",
        "# string: Hello,GIX\n",
        "#  index: 012345678\n",
        "#          ^\n",
        "s[1]"
      ],
      "metadata": {
        "colab": {
          "base_uri": "https://localhost:8080/",
          "height": 35
        },
        "id": "Vw4TGA8BKFPj",
        "outputId": "3a5506e6-9f64-40fe-df87-8673425d3d22"
      },
      "execution_count": 60,
      "outputs": [
        {
          "output_type": "execute_result",
          "data": {
            "text/plain": [
              "'e'"
            ],
            "application/vnd.google.colaboratory.intrinsic+json": {
              "type": "string"
            }
          },
          "metadata": {},
          "execution_count": 60
        }
      ]
    },
    {
      "cell_type": "code",
      "source": [
        "# get the character from index 1 to 6, with step = 1\n",
        "# string: Hello,GIX\n",
        "#  index: 012345678\n",
        "#          ^^^^^\n",
        "s[1:6:1]"
      ],
      "metadata": {
        "colab": {
          "base_uri": "https://localhost:8080/",
          "height": 35
        },
        "id": "6ns-Ffb6Kunk",
        "outputId": "21c22bd8-2c59-4d8e-ab3d-77b032a492cc"
      },
      "execution_count": 70,
      "outputs": [
        {
          "output_type": "execute_result",
          "data": {
            "text/plain": [
              "'ello,'"
            ],
            "application/vnd.google.colaboratory.intrinsic+json": {
              "type": "string"
            }
          },
          "metadata": {},
          "execution_count": 70
        }
      ]
    },
    {
      "cell_type": "code",
      "source": [
        "# get the character from index 1 to 6, with step = 2\n",
        "# string: Hello,GIX\n",
        "#  index: 012345678\n",
        "#          ^ ^ ^\n",
        "s[1:6:2]"
      ],
      "metadata": {
        "colab": {
          "base_uri": "https://localhost:8080/",
          "height": 35
        },
        "id": "MOwVnFRzK0xp",
        "outputId": "e7d9bf47-20f0-48d5-b9de-59e92109bc41"
      },
      "execution_count": 71,
      "outputs": [
        {
          "output_type": "execute_result",
          "data": {
            "text/plain": [
              "'el,'"
            ],
            "application/vnd.google.colaboratory.intrinsic+json": {
              "type": "string"
            }
          },
          "metadata": {},
          "execution_count": 71
        }
      ]
    },
    {
      "cell_type": "code",
      "source": [
        "# if step = 1, you cam omit it\n",
        "# string: Hello,GIX\n",
        "#  index: 012345678\n",
        "#          ^^^^^\n",
        "s[1:6]"
      ],
      "metadata": {
        "colab": {
          "base_uri": "https://localhost:8080/",
          "height": 35
        },
        "id": "vkyqOMJ6u5xj",
        "outputId": "395be9ac-0598-4a11-e123-1197de3b21da"
      },
      "execution_count": 72,
      "outputs": [
        {
          "output_type": "execute_result",
          "data": {
            "text/plain": [
              "'ello,'"
            ],
            "application/vnd.google.colaboratory.intrinsic+json": {
              "type": "string"
            }
          },
          "metadata": {},
          "execution_count": 72
        }
      ]
    },
    {
      "cell_type": "code",
      "source": [
        "# get the character from index 1 to the end of the string, with step = 1\n",
        "# string: Hello,GIX\n",
        "#  index: 012345678\n",
        "#          ^^^^^^^^\n",
        "s[1::1]"
      ],
      "metadata": {
        "colab": {
          "base_uri": "https://localhost:8080/",
          "height": 35
        },
        "id": "v9ShmN0JvFPz",
        "outputId": "6dfc9f2f-1245-464b-bd81-f80f9142c6cd"
      },
      "execution_count": 67,
      "outputs": [
        {
          "output_type": "execute_result",
          "data": {
            "text/plain": [
              "'ello,GIX'"
            ],
            "application/vnd.google.colaboratory.intrinsic+json": {
              "type": "string"
            }
          },
          "metadata": {},
          "execution_count": 67
        }
      ]
    },
    {
      "cell_type": "code",
      "source": [
        "# step = 1, so we omit it\n",
        "# string: Hello,GIX\n",
        "#  index: 012345678\n",
        "#          ^^^^^^^^\n",
        "s[1::]"
      ],
      "metadata": {
        "colab": {
          "base_uri": "https://localhost:8080/",
          "height": 35
        },
        "id": "b7Gykm6nMItg",
        "outputId": "639c35c2-6d31-40de-febe-3209ed2a6e95"
      },
      "execution_count": 68,
      "outputs": [
        {
          "output_type": "execute_result",
          "data": {
            "text/plain": [
              "'ello,GIX'"
            ],
            "application/vnd.google.colaboratory.intrinsic+json": {
              "type": "string"
            }
          },
          "metadata": {},
          "execution_count": 68
        }
      ]
    },
    {
      "cell_type": "code",
      "source": [
        "# get the character from index 1 to the end of the string, with step = 2\n",
        "# string: Hello,GIX\n",
        "#  index: 012345678\n",
        "#          ^ ^ ^ ^\n",
        "s[1::2]"
      ],
      "metadata": {
        "colab": {
          "base_uri": "https://localhost:8080/",
          "height": 35
        },
        "id": "l6lYzJG0vq1p",
        "outputId": "0b7ae2b5-2a77-487f-9a09-a1943e48db8e"
      },
      "execution_count": 69,
      "outputs": [
        {
          "output_type": "execute_result",
          "data": {
            "text/plain": [
              "'el,I'"
            ],
            "application/vnd.google.colaboratory.intrinsic+json": {
              "type": "string"
            }
          },
          "metadata": {},
          "execution_count": 69
        }
      ]
    },
    {
      "cell_type": "markdown",
      "source": [
        "You can index from the end of the string using a negative index.\n",
        "\n",
        "Note that when indexing from the end it starts from -1 not 0"
      ],
      "metadata": {
        "id": "k-SdRenqvvXT"
      }
    },
    {
      "cell_type": "code",
      "source": [
        "# get the last character\n",
        "'hello'[-1]"
      ],
      "metadata": {
        "colab": {
          "base_uri": "https://localhost:8080/",
          "height": 35
        },
        "id": "kEgwdSRmv52H",
        "outputId": "f87b9a91-271f-4932-da5f-6b5089da4ec1"
      },
      "execution_count": 74,
      "outputs": [
        {
          "output_type": "execute_result",
          "data": {
            "text/plain": [
              "'o'"
            ],
            "application/vnd.google.colaboratory.intrinsic+json": {
              "type": "string"
            }
          },
          "metadata": {},
          "execution_count": 74
        }
      ]
    },
    {
      "cell_type": "markdown",
      "source": [
        "How to reverse a string?"
      ],
      "metadata": {
        "id": "obtuyHrGNSbA"
      }
    },
    {
      "cell_type": "code",
      "source": [
        "# Use step = -1\n",
        "\"Hello\"[::-1]"
      ],
      "metadata": {
        "colab": {
          "base_uri": "https://localhost:8080/",
          "height": 35
        },
        "id": "DkJ7_YN5v-SY",
        "outputId": "57ee38e4-4319-4db8-ccd7-3ac2d96ef05b"
      },
      "execution_count": 75,
      "outputs": [
        {
          "output_type": "execute_result",
          "data": {
            "text/plain": [
              "'olleH'"
            ],
            "application/vnd.google.colaboratory.intrinsic+json": {
              "type": "string"
            }
          },
          "metadata": {},
          "execution_count": 75
        }
      ]
    },
    {
      "cell_type": "markdown",
      "source": [
        "# String concatenation\n",
        "String concatenation is the process of combining two or more strings to create\n",
        "a new, longer string.\n",
        "\n",
        "In Python, you can perform string concatenation using the `+` operator"
      ],
      "metadata": {
        "id": "CfX8HJq7Nib8"
      }
    },
    {
      "cell_type": "code",
      "source": [
        "greeting = \"Hello,\"\n",
        "name = \"GIX\"\n",
        "greeting + name"
      ],
      "metadata": {
        "colab": {
          "base_uri": "https://localhost:8080/",
          "height": 35
        },
        "id": "GeeAGzuowPnX",
        "outputId": "3ed300b5-e6dd-4c5d-c0a5-9e0b20e719f5"
      },
      "execution_count": 77,
      "outputs": [
        {
          "output_type": "execute_result",
          "data": {
            "text/plain": [
              "'Hello,GIX'"
            ],
            "application/vnd.google.colaboratory.intrinsic+json": {
              "type": "string"
            }
          },
          "metadata": {},
          "execution_count": 77
        }
      ]
    },
    {
      "cell_type": "code",
      "source": [
        "greeting = \"Hello,\"\n",
        "name = \"GIX\"\n",
        "greeting + \" \" + name"
      ],
      "metadata": {
        "colab": {
          "base_uri": "https://localhost:8080/",
          "height": 35
        },
        "id": "CQg-sjSSwdKe",
        "outputId": "015c012a-6ed3-4c66-9712-e4c74664689a"
      },
      "execution_count": 78,
      "outputs": [
        {
          "output_type": "execute_result",
          "data": {
            "text/plain": [
              "'Hello, GIX'"
            ],
            "application/vnd.google.colaboratory.intrinsic+json": {
              "type": "string"
            }
          },
          "metadata": {},
          "execution_count": 78
        }
      ]
    },
    {
      "cell_type": "code",
      "source": [
        "# Repeat a string by multiplying it with a number\n",
        "\"Python\" * 10"
      ],
      "metadata": {
        "colab": {
          "base_uri": "https://localhost:8080/",
          "height": 35
        },
        "id": "S6r_zqCswjQz",
        "outputId": "899d9b20-b2b4-4bde-fa12-d5380fe35b16"
      },
      "execution_count": 80,
      "outputs": [
        {
          "output_type": "execute_result",
          "data": {
            "text/plain": [
              "'PythonPythonPythonPythonPythonPythonPythonPythonPythonPython'"
            ],
            "application/vnd.google.colaboratory.intrinsic+json": {
              "type": "string"
            }
          },
          "metadata": {},
          "execution_count": 80
        }
      ]
    },
    {
      "cell_type": "markdown",
      "source": [
        "There are many built-in methods for the String class\n",
        "\n",
        "(we will talk about the concepts of classes and objects later)"
      ],
      "metadata": {
        "id": "QV3z-EXGOkVX"
      }
    },
    {
      "cell_type": "code",
      "source": [
        "# Show all attributes and methods of String using `dir`\n",
        "s = 'harry potter'\n",
        "print(dir(s))"
      ],
      "metadata": {
        "colab": {
          "base_uri": "https://localhost:8080/"
        },
        "id": "S8jnHS-xw0rY",
        "outputId": "879f1182-6968-48ab-bd00-baa76cf7e860"
      },
      "execution_count": 82,
      "outputs": [
        {
          "output_type": "stream",
          "name": "stdout",
          "text": [
            "['__add__', '__class__', '__contains__', '__delattr__', '__dir__', '__doc__', '__eq__', '__format__', '__ge__', '__getattribute__', '__getitem__', '__getnewargs__', '__gt__', '__hash__', '__init__', '__init_subclass__', '__iter__', '__le__', '__len__', '__lt__', '__mod__', '__mul__', '__ne__', '__new__', '__reduce__', '__reduce_ex__', '__repr__', '__rmod__', '__rmul__', '__setattr__', '__sizeof__', '__str__', '__subclasshook__', 'capitalize', 'casefold', 'center', 'count', 'encode', 'endswith', 'expandtabs', 'find', 'format', 'format_map', 'index', 'isalnum', 'isalpha', 'isascii', 'isdecimal', 'isdigit', 'isidentifier', 'islower', 'isnumeric', 'isprintable', 'isspace', 'istitle', 'isupper', 'join', 'ljust', 'lower', 'lstrip', 'maketrans', 'partition', 'removeprefix', 'removesuffix', 'replace', 'rfind', 'rindex', 'rjust', 'rpartition', 'rsplit', 'rstrip', 'split', 'splitlines', 'startswith', 'strip', 'swapcase', 'title', 'translate', 'upper', 'zfill']\n"
          ]
        }
      ]
    },
    {
      "cell_type": "markdown",
      "source": [
        "Let's pick a couple built-in methods of string to try out"
      ],
      "metadata": {
        "id": "7vHlAModPY7N"
      }
    },
    {
      "cell_type": "code",
      "source": [
        "# Harry Potter\n",
        "s = 'harry potter'"
      ],
      "metadata": {
        "id": "xbC4TqfoxCG4"
      },
      "execution_count": null,
      "outputs": []
    },
    {
      "cell_type": "code",
      "source": [
        "# make the string title case\n",
        "s.title()"
      ],
      "metadata": {
        "colab": {
          "base_uri": "https://localhost:8080/",
          "height": 35
        },
        "id": "vvdlguK5xTHo",
        "outputId": "98103a1b-17f1-43c8-b8fd-a886bb97bdad"
      },
      "execution_count": null,
      "outputs": [
        {
          "output_type": "execute_result",
          "data": {
            "text/plain": [
              "'Harry Potter'"
            ],
            "application/vnd.google.colaboratory.intrinsic+json": {
              "type": "string"
            }
          },
          "metadata": {},
          "execution_count": 73
        }
      ]
    },
    {
      "cell_type": "code",
      "source": [
        "# make the string upper case\n",
        "s.upper()"
      ],
      "metadata": {
        "colab": {
          "base_uri": "https://localhost:8080/",
          "height": 35
        },
        "id": "hM0toqAmxfhV",
        "outputId": "33a95955-2fd7-4f6b-d6e9-14681f91fae8"
      },
      "execution_count": null,
      "outputs": [
        {
          "output_type": "execute_result",
          "data": {
            "text/plain": [
              "'HARRY POTTER'"
            ],
            "application/vnd.google.colaboratory.intrinsic+json": {
              "type": "string"
            }
          },
          "metadata": {},
          "execution_count": 74
        }
      ]
    },
    {
      "cell_type": "code",
      "source": [
        "# make the string lower case\n",
        "'HARRY POTTER'.lower()"
      ],
      "metadata": {
        "colab": {
          "base_uri": "https://localhost:8080/",
          "height": 35
        },
        "id": "ceU6G0zyxidK",
        "outputId": "709f9a54-b03e-480c-e0e2-fd2d83630d68"
      },
      "execution_count": null,
      "outputs": [
        {
          "output_type": "execute_result",
          "data": {
            "text/plain": [
              "'harry potter'"
            ],
            "application/vnd.google.colaboratory.intrinsic+json": {
              "type": "string"
            }
          },
          "metadata": {},
          "execution_count": 75
        }
      ]
    },
    {
      "cell_type": "code",
      "source": [
        "# test if the string ends with a string\n",
        "\"Hello\".endswith(\"llo\")"
      ],
      "metadata": {
        "colab": {
          "base_uri": "https://localhost:8080/"
        },
        "id": "v9cP0niIxlx6",
        "outputId": "90c46cc6-7904-4eb5-e496-b14349bd4792"
      },
      "execution_count": 85,
      "outputs": [
        {
          "output_type": "execute_result",
          "data": {
            "text/plain": [
              "True"
            ]
          },
          "metadata": {},
          "execution_count": 85
        }
      ]
    },
    {
      "cell_type": "code",
      "source": [
        "\"Hello\".endswith(\"zzz\")"
      ],
      "metadata": {
        "colab": {
          "base_uri": "https://localhost:8080/"
        },
        "id": "4VKoVWcYxvbq",
        "outputId": "d88d003b-37dd-4cff-97ed-c80117893125"
      },
      "execution_count": 86,
      "outputs": [
        {
          "output_type": "execute_result",
          "data": {
            "text/plain": [
              "False"
            ]
          },
          "metadata": {},
          "execution_count": 86
        }
      ]
    },
    {
      "cell_type": "code",
      "source": [
        "# test if the string starts with a string\n",
        "\"Hello\".startswith(\"Hel\")"
      ],
      "metadata": {
        "colab": {
          "base_uri": "https://localhost:8080/"
        },
        "id": "Cgd0robAxxiS",
        "outputId": "2e3dbee4-8ade-4764-cf4e-56967ea93289"
      },
      "execution_count": 87,
      "outputs": [
        {
          "output_type": "execute_result",
          "data": {
            "text/plain": [
              "True"
            ]
          },
          "metadata": {},
          "execution_count": 87
        }
      ]
    },
    {
      "cell_type": "code",
      "source": [
        "# split the string into a list of strings by ,\n",
        "\"Ian,Chen,99,University of Washington\".split(\",\")"
      ],
      "metadata": {
        "colab": {
          "base_uri": "https://localhost:8080/"
        },
        "id": "idQ5dJnhx1dz",
        "outputId": "2e09fc6e-221c-4dcc-b449-0cedf7d6c940"
      },
      "execution_count": 88,
      "outputs": [
        {
          "output_type": "execute_result",
          "data": {
            "text/plain": [
              "['Ian', 'Chen', '99', 'University of Washington']"
            ]
          },
          "metadata": {},
          "execution_count": 88
        }
      ]
    },
    {
      "cell_type": "code",
      "source": [
        "# Check the function documentation using ?\n",
        "s = \"Hello\"\n",
        "?s.lower"
      ],
      "metadata": {
        "id": "LUHg0rKiyYUD"
      },
      "execution_count": 89,
      "outputs": []
    },
    {
      "cell_type": "markdown",
      "source": [
        "# Practice\n",
        "The customer wants to exchange 10,000 New Taiwan Dollars (NTD) into US Dollars (USD). Assuming:\n",
        "- The original input string is: NTD$ 10,000\n",
        "- The exchange rate is: 27.3\n",
        "\n",
        "Please convert the amount into the integer amount in US Dollars.\n",
        "\n",
        "Hint: Use `replace()` and `int()`."
      ],
      "metadata": {
        "id": "zKZVpaV1WQGY"
      }
    },
    {
      "cell_type": "code",
      "source": [
        "s = 'NTD$ 10,000'\n",
        "?s.replace"
      ],
      "metadata": {
        "id": "NDgpGwArWYRf"
      },
      "execution_count": 109,
      "outputs": []
    },
    {
      "cell_type": "code",
      "source": [
        "t1 = s.replace('NTD$ ', '')\n",
        "t2 = t1.replace(',', '')\n",
        "t3 = int(t2)\n",
        "t4 = t3 / 27.3\n",
        "result = int(t4)\n",
        "result"
      ],
      "metadata": {
        "colab": {
          "base_uri": "https://localhost:8080/"
        },
        "id": "LlypiRrmWbg-",
        "outputId": "4f1339c7-762a-4c82-b8c1-7e03e06f067d"
      },
      "execution_count": 110,
      "outputs": [
        {
          "output_type": "execute_result",
          "data": {
            "text/plain": [
              "366"
            ]
          },
          "metadata": {},
          "execution_count": 110
        }
      ]
    },
    {
      "cell_type": "code",
      "source": [
        "val = int(s.replace('NTD$ ', '').replace(',', ''))\n",
        "int(val / 27.3)"
      ],
      "metadata": {
        "colab": {
          "base_uri": "https://localhost:8080/"
        },
        "id": "AcAFnxHgWdpW",
        "outputId": "31762d83-2518-497e-9dd4-f312b31afa20"
      },
      "execution_count": 111,
      "outputs": [
        {
          "output_type": "execute_result",
          "data": {
            "text/plain": [
              "366"
            ]
          },
          "metadata": {},
          "execution_count": 111
        }
      ]
    },
    {
      "cell_type": "markdown",
      "source": [
        "# String Formatting\n",
        "\n",
        "String formatting is a technique in Python used to create well-structured, dynamic strings by inserting variable values or expressions into a text template.\n",
        "\n",
        "Python supports multiple ways to format text strings. These include [%-formatting](https://peps.python.org/pep-0498/#id11), [str.format()](https://peps.python.org/pep-0498/#id12), and [f-strings](https://peps.python.org/pep-0498/). Each of these methods have their advantages and use cases."
      ],
      "metadata": {
        "id": "sbNl6mugQJ9e"
      }
    },
    {
      "cell_type": "code",
      "source": [
        "# %-formatting\n",
        "# the old way\n",
        "name = \"Alice\"\n",
        "age = 30\n",
        "\n",
        "formatted_string = \"Hello, my name is %s and I am %s years old.\"%(name, age)\n",
        "\n",
        "print(formatted_string)"
      ],
      "metadata": {
        "colab": {
          "base_uri": "https://localhost:8080/"
        },
        "id": "TEkPpztISV9y",
        "outputId": "07a26924-1fbb-4338-c6b2-7c53e828a993"
      },
      "execution_count": 94,
      "outputs": [
        {
          "output_type": "stream",
          "name": "stdout",
          "text": [
            "Hello, my name is Alice and I am 30 years old.\n"
          ]
        }
      ]
    },
    {
      "cell_type": "code",
      "source": [
        "# str.format()\n",
        "# more powerful\n",
        "name = \"Alice\"\n",
        "age = 30\n",
        "\n",
        "formatted_string = \"Hello, my name is {} and I am {} years old.\".format(name, age)\n",
        "\n",
        "print(formatted_string)"
      ],
      "metadata": {
        "colab": {
          "base_uri": "https://localhost:8080/"
        },
        "id": "uY6whTKbQta8",
        "outputId": "4ea06c8b-737e-47ab-f0ba-ebab33ba3dec"
      },
      "execution_count": 90,
      "outputs": [
        {
          "output_type": "stream",
          "name": "stdout",
          "text": [
            "Hello, my name is Alice and I am 30 years old.\n"
          ]
        }
      ]
    },
    {
      "cell_type": "code",
      "source": [
        "# str.format()\n",
        "# more powerful\n",
        "name = \"Alice\"\n",
        "age = 30\n",
        "\n",
        "# specify field name\n",
        "formatted_string = \"Hello, my name is {name} and I am {age} years old.\".format(name=name, age=age)\n",
        "\n",
        "print(formatted_string)"
      ],
      "metadata": {
        "colab": {
          "base_uri": "https://localhost:8080/"
        },
        "id": "5iyaiEf2Sxd2",
        "outputId": "3069df36-e145-464c-f8d3-c79dbb9afc75"
      },
      "execution_count": 95,
      "outputs": [
        {
          "output_type": "stream",
          "name": "stdout",
          "text": [
            "Hello, my name is Alice and I am 30 years old.\n"
          ]
        }
      ]
    },
    {
      "cell_type": "code",
      "source": [
        "# str.format()\n",
        "# more powerful\n",
        "name = \"Alice\"\n",
        "age = 30\n",
        "\n",
        "# specify field name\n",
        "formatted_string = \"Hello, my name is {0} and I am {1} years old.\".format(name, age)\n",
        "\n",
        "print(formatted_string)"
      ],
      "metadata": {
        "colab": {
          "base_uri": "https://localhost:8080/"
        },
        "id": "VssRn4s1TmWi",
        "outputId": "99b2bfff-dfed-4503-cfec-d0c9bce725f2"
      },
      "execution_count": 96,
      "outputs": [
        {
          "output_type": "stream",
          "name": "stdout",
          "text": [
            "Hello, my name is Alice and I am 30 years old.\n"
          ]
        }
      ]
    },
    {
      "cell_type": "code",
      "source": [
        "# Since Python 3.6, you can using f-strings to format\n",
        "# read more: https://peps.python.org/pep-0498/\n",
        "name = \"Ian Chen\"\n",
        "position = \"Lecturer\"\n",
        "organization = \"University of Washington\"\n",
        "\n",
        "s = f\"Hi, my name is {name}, I'm a {position} at {organization}\"\n",
        "s"
      ],
      "metadata": {
        "colab": {
          "base_uri": "https://localhost:8080/",
          "height": 35
        },
        "id": "jMjfWihoQ-gm",
        "outputId": "34d5e858-aa2a-42a2-b638-790f592619a3"
      },
      "execution_count": 91,
      "outputs": [
        {
          "output_type": "execute_result",
          "data": {
            "text/plain": [
              "\"Hi, my name is Ian Chen, I'm a Lecturer at University of Washington\""
            ],
            "application/vnd.google.colaboratory.intrinsic+json": {
              "type": "string"
            }
          },
          "metadata": {},
          "execution_count": 91
        }
      ]
    },
    {
      "cell_type": "markdown",
      "source": [
        "# Input\n",
        "The `input()` function in Python is used to receive user input from the keyboard.\n",
        "\n",
        "It allows you to interact with your Python program by providing data that can be stored in variables and used in your code.\n",
        "\n",
        "The input() function reads a line of text entered by the user and returns it as a **string**."
      ],
      "metadata": {
        "id": "J0wIa4uhWvju"
      }
    },
    {
      "cell_type": "code",
      "source": [
        "# Prompt the user for their name\n",
        "name = input(\"Enter your name: \")\n",
        "\n",
        "# Display a greeting using the input\n",
        "print(f\"Hello, {name}!\")\n",
        "\n",
        "# Prompt the user for their game score\n",
        "score = input(\"Enter your score: \")\n",
        "\n",
        "# Display a message based on the score input\n",
        "print(f\"You scored {score} points.\")"
      ],
      "metadata": {
        "colab": {
          "base_uri": "https://localhost:8080/"
        },
        "id": "8Tb4gS1HXHiP",
        "outputId": "daeb0b5a-a4bc-41ca-d1e9-4dc15cde234d"
      },
      "execution_count": 117,
      "outputs": [
        {
          "output_type": "stream",
          "name": "stdout",
          "text": [
            "Enter your name: ian\n",
            "Hello, ian!\n",
            "Enter your score: 99\n",
            "You scored 99 points.\n"
          ]
        }
      ]
    },
    {
      "cell_type": "markdown",
      "source": [
        "# Practice\n",
        "A customer has a bank account balance of $300,000.\n",
        "\n",
        "Please write a program where the user can input the amount they want to withdraw. After entering the amount, the program should display the following string on the screen:\n",
        "\n",
        "\"You have withdrawn \\$[amount] dollars. Your remaining balance is \\$[remaining balance] dollars.\""
      ],
      "metadata": {
        "id": "RzdaA16vWnRP"
      }
    },
    {
      "cell_type": "code",
      "source": [
        "balance = 300000\n",
        "withdraw = input('Please enter the amount to withdraw:')\n",
        "#withdraw\n",
        "balance = balance - int(withdraw)\n",
        "output = (\n",
        "    f'You have withdrawn ${withdraw} USD. '\n",
        "    f'Your remaining balance is ${balance} USD.'\n",
        ")\n",
        "output"
      ],
      "metadata": {
        "colab": {
          "base_uri": "https://localhost:8080/",
          "height": 53
        },
        "id": "i7AqGejvWsgq",
        "outputId": "ca189b22-fc1f-4063-da29-5be4541e8a48"
      },
      "execution_count": 118,
      "outputs": [
        {
          "name": "stdout",
          "output_type": "stream",
          "text": [
            "Please enter the amount to withdraw:9\n"
          ]
        },
        {
          "output_type": "execute_result",
          "data": {
            "text/plain": [
              "'You have withdrawn $9 USD. Your remaining balance is $299991 USD.'"
            ],
            "application/vnd.google.colaboratory.intrinsic+json": {
              "type": "string"
            }
          },
          "metadata": {},
          "execution_count": 118
        }
      ]
    },
    {
      "cell_type": "markdown",
      "source": [
        "# File I/O\n",
        "File I/O, which stands for File Input/Output, is a fundamental concept in programming that allows you to read data from and write data to files on your computer's storage. Python provides built-in functions and methods to perform File I/O operations easily."
      ],
      "metadata": {
        "id": "icCHuDnoUt_Q"
      }
    },
    {
      "cell_type": "code",
      "source": [
        "# w:write, a:append, b: binary, r:read\n",
        "# Open a file called test.txt in write mode\n",
        "# Write \"Hello World\" to the file\n",
        "# Close the file\n",
        "f = open('test.txt', 'w')\n",
        "f.write('Hello World')\n",
        "f.close()"
      ],
      "metadata": {
        "id": "uEEeYEB6Uz2l"
      },
      "execution_count": 100,
      "outputs": []
    },
    {
      "cell_type": "code",
      "source": [
        "# Use with keyword to automatically manage file lifecycle(open, close)\n",
        "with open('test.txt', 'w') as f:\n",
        "    f.write('Hello World')"
      ],
      "metadata": {
        "id": "1dwNr_0HU1s6"
      },
      "execution_count": 105,
      "outputs": []
    },
    {
      "cell_type": "code",
      "source": [
        "# Open test.txt created previously, in read mode\n",
        "# Read the file entirely into variable data\n",
        "with open('test.txt', 'r') as f:\n",
        "    data = f.read()\n",
        "print(data)"
      ],
      "metadata": {
        "colab": {
          "base_uri": "https://localhost:8080/"
        },
        "id": "FjsTlXuyU3zU",
        "outputId": "336770d0-3ca2-42a3-c2c7-f2c061bbe80a"
      },
      "execution_count": 106,
      "outputs": [
        {
          "output_type": "stream",
          "name": "stdout",
          "text": [
            "Hello World\n"
          ]
        }
      ]
    },
    {
      "cell_type": "markdown",
      "source": [
        "# Debugging Strategies"
      ],
      "metadata": {
        "id": "Foar3woVX27u"
      }
    },
    {
      "cell_type": "markdown",
      "source": [
        "**Read** documentation"
      ],
      "metadata": {
        "id": "LTIxiSRvX7Ai"
      }
    },
    {
      "cell_type": "code",
      "source": [
        "# example where documentation is needed\n",
        "new = 'upper case all letter l'.replace('L','l',2)\n",
        "print(new)"
      ],
      "metadata": {
        "colab": {
          "base_uri": "https://localhost:8080/"
        },
        "id": "OJvuWkedX9o1",
        "outputId": "eb468a6d-126c-4431-e4dd-70192bace3c8"
      },
      "execution_count": 119,
      "outputs": [
        {
          "output_type": "stream",
          "name": "stdout",
          "text": [
            "upper case all letter l\n"
          ]
        }
      ]
    },
    {
      "cell_type": "markdown",
      "source": [
        "*Read* error message"
      ],
      "metadata": {
        "id": "evT09BHoYAyH"
      }
    },
    {
      "cell_type": "code",
      "source": [
        "# example where error message is helpful\n",
        "new = ''.upper('lower case name')\n",
        "print(new)"
      ],
      "metadata": {
        "id": "cICuLZnYYDFw"
      },
      "execution_count": null,
      "outputs": []
    },
    {
      "cell_type": "markdown",
      "source": [
        "Use print statements"
      ],
      "metadata": {
        "id": "6kWaNku4YJv5"
      }
    },
    {
      "cell_type": "code",
      "source": [
        "# example where print statement is helpful\n",
        "i = 1\n",
        "i += 3\n",
        "i / 2\n",
        "i = i - 1\n",
        "print(i)"
      ],
      "metadata": {
        "colab": {
          "base_uri": "https://localhost:8080/"
        },
        "id": "ApWe8rYIYL68",
        "outputId": "216bfa33-2250-4ef3-b67d-d1c47610dcb8"
      },
      "execution_count": 122,
      "outputs": [
        {
          "output_type": "stream",
          "name": "stdout",
          "text": [
            "3\n"
          ]
        }
      ]
    },
    {
      "cell_type": "markdown",
      "source": [
        "Other debugging strateges:\n",
        "- Write modular code,\n",
        "- Isolate functionality to test independently,\n",
        "- Add comments to follow logic (will cover these in later labs)"
      ],
      "metadata": {
        "id": "F8ub7X8uYORx"
      }
    },
    {
      "cell_type": "markdown",
      "source": [
        "**References**\n",
        "- https://learnxinyminutes.com/docs/python/\n"
      ],
      "metadata": {
        "id": "l5R6al9i9js_"
      }
    }
  ]
}